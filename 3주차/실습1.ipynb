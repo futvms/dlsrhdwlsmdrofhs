{
  "nbformat": 4,
  "nbformat_minor": 0,
  "metadata": {
    "colab": {
      "provenance": []
    },
    "kernelspec": {
      "name": "python3",
      "display_name": "Python 3"
    },
    "language_info": {
      "name": "python"
    }
  },
  "cells": [
    {
      "cell_type": "code",
      "source": [
        "import pandas as pd\n",
        "from sklearn.preprocessing import LabelEncoder, StandardScaler\n",
        "from sklearn.model_selection import train_test_split\n",
        "from sklearn.tree import DecisionTreeClassifier\n",
        "from sklearn.ensemble import RandomForestClassifier\n",
        "from sklearn.svm import SVC\n",
        "from sklearn.neighbors import KNeighborsClassifier\n",
        "from sklearn.linear_model import LogisticRegression\n",
        "from sklearn.metrics import accuracy_score, confusion_matrix\n",
        "\n",
        "df = pd.read_csv('/content/drive/MyDrive/Colab Notebooks/dlsrhdwlsmdrofhs/car_evaluation.csv', header= None)\n",
        "\n",
        "print(df)"
      ],
      "metadata": {
        "colab": {
          "base_uri": "https://localhost:8080/"
        },
        "id": "JFNtcO4jsHi1",
        "outputId": "36eb28bf-1b07-4c58-ce26-c0a3f2a590ff"
      },
      "execution_count": null,
      "outputs": [
        {
          "output_type": "stream",
          "name": "stdout",
          "text": [
            "          0      1      2     3      4     5      6\n",
            "0     vhigh  vhigh      2     2  small   low  unacc\n",
            "1     vhigh  vhigh      2     2  small   med  unacc\n",
            "2     vhigh  vhigh      2     2  small  high  unacc\n",
            "3     vhigh  vhigh      2     2    med   low  unacc\n",
            "4     vhigh  vhigh      2     2    med   med  unacc\n",
            "...     ...    ...    ...   ...    ...   ...    ...\n",
            "1723    low    low  5more  more    med   med   good\n",
            "1724    low    low  5more  more    med  high  vgood\n",
            "1725    low    low  5more  more    big   low  unacc\n",
            "1726    low    low  5more  more    big   med   good\n",
            "1727    low    low  5more  more    big  high  vgood\n",
            "\n",
            "[1728 rows x 7 columns]\n"
          ]
        }
      ]
    },
    {
      "cell_type": "code",
      "source": [
        "print(df.columns)"
      ],
      "metadata": {
        "colab": {
          "base_uri": "https://localhost:8080/"
        },
        "id": "MSJlqAcesfHU",
        "outputId": "620bf11b-dd7f-45fb-b2e7-5d52a44b37a4"
      },
      "execution_count": null,
      "outputs": [
        {
          "output_type": "stream",
          "name": "stdout",
          "text": [
            "Index([0, 1, 2, 3, 4, 5, 6], dtype='int64')\n"
          ]
        }
      ]
    },
    {
      "cell_type": "code",
      "source": [
        "df.columns = ['price', 'maint', 'doors', 'persons', 'lug_capacity', 'safety', 'output']\n",
        "print(df.columns)"
      ],
      "metadata": {
        "colab": {
          "base_uri": "https://localhost:8080/"
        },
        "id": "2Oc_hRfYujHo",
        "outputId": "57c7cda7-44eb-4e24-f645-fcd5e873a9a5"
      },
      "execution_count": null,
      "outputs": [
        {
          "output_type": "stream",
          "name": "stdout",
          "text": [
            "Index(['price', 'maint', 'doors', 'persons', 'lug_capacity', 'safety',\n",
            "       'output'],\n",
            "      dtype='object')\n"
          ]
        }
      ]
    },
    {
      "cell_type": "code",
      "source": [
        "print(df.isnull().sum())"
      ],
      "metadata": {
        "colab": {
          "base_uri": "https://localhost:8080/"
        },
        "id": "YvcRVkiUxbUv",
        "outputId": "b6e578e7-1b06-4713-fdf3-06035b6e555f"
      },
      "execution_count": null,
      "outputs": [
        {
          "output_type": "stream",
          "name": "stdout",
          "text": [
            "price           0\n",
            "maint           0\n",
            "doors           0\n",
            "persons         0\n",
            "lug_capacity    0\n",
            "safety          0\n",
            "output          0\n",
            "dtype: int64\n"
          ]
        }
      ]
    },
    {
      "cell_type": "code",
      "source": [
        "label_encoders = {}\n",
        "for column in df.columns:\n",
        "    label_encoders[column] = LabelEncoder()\n",
        "    df[column] = label_encoders[column].fit_transform(df[column])\n",
        "print(df)"
      ],
      "metadata": {
        "colab": {
          "base_uri": "https://localhost:8080/"
        },
        "id": "JmPezkjPuk2y",
        "outputId": "233c2a39-9e8e-4876-9317-8fa702e2a9af"
      },
      "execution_count": null,
      "outputs": [
        {
          "output_type": "stream",
          "name": "stdout",
          "text": [
            "      price  maint  doors  persons  lug_capacity  safety  output\n",
            "0         3      3      0        0             2       1       2\n",
            "1         3      3      0        0             2       2       2\n",
            "2         3      3      0        0             2       0       2\n",
            "3         3      3      0        0             1       1       2\n",
            "4         3      3      0        0             1       2       2\n",
            "...     ...    ...    ...      ...           ...     ...     ...\n",
            "1723      1      1      3        2             1       2       1\n",
            "1724      1      1      3        2             1       0       3\n",
            "1725      1      1      3        2             0       1       2\n",
            "1726      1      1      3        2             0       2       1\n",
            "1727      1      1      3        2             0       0       3\n",
            "\n",
            "[1728 rows x 7 columns]\n"
          ]
        }
      ]
    },
    {
      "cell_type": "code",
      "source": [
        "df['output'].value_counts()"
      ],
      "metadata": {
        "colab": {
          "base_uri": "https://localhost:8080/",
          "height": 241
        },
        "id": "_yMbOMyEjhBJ",
        "outputId": "94aa11b3-01ed-4c18-8b50-61013b766477"
      },
      "execution_count": null,
      "outputs": [
        {
          "output_type": "execute_result",
          "data": {
            "text/plain": [
              "output\n",
              "2    1210\n",
              "0     384\n",
              "1      69\n",
              "3      65\n",
              "Name: count, dtype: int64"
            ],
            "text/html": [
              "<div>\n",
              "<style scoped>\n",
              "    .dataframe tbody tr th:only-of-type {\n",
              "        vertical-align: middle;\n",
              "    }\n",
              "\n",
              "    .dataframe tbody tr th {\n",
              "        vertical-align: top;\n",
              "    }\n",
              "\n",
              "    .dataframe thead th {\n",
              "        text-align: right;\n",
              "    }\n",
              "</style>\n",
              "<table border=\"1\" class=\"dataframe\">\n",
              "  <thead>\n",
              "    <tr style=\"text-align: right;\">\n",
              "      <th></th>\n",
              "      <th>count</th>\n",
              "    </tr>\n",
              "    <tr>\n",
              "      <th>output</th>\n",
              "      <th></th>\n",
              "    </tr>\n",
              "  </thead>\n",
              "  <tbody>\n",
              "    <tr>\n",
              "      <th>2</th>\n",
              "      <td>1210</td>\n",
              "    </tr>\n",
              "    <tr>\n",
              "      <th>0</th>\n",
              "      <td>384</td>\n",
              "    </tr>\n",
              "    <tr>\n",
              "      <th>1</th>\n",
              "      <td>69</td>\n",
              "    </tr>\n",
              "    <tr>\n",
              "      <th>3</th>\n",
              "      <td>65</td>\n",
              "    </tr>\n",
              "  </tbody>\n",
              "</table>\n",
              "</div><br><label><b>dtype:</b> int64</label>"
            ]
          },
          "metadata": {},
          "execution_count": 72
        }
      ]
    },
    {
      "cell_type": "code",
      "source": [
        "X = df.drop('output', axis=1).values\n",
        "y = df['output'].values"
      ],
      "metadata": {
        "id": "RZJjHnKo1QGm"
      },
      "execution_count": null,
      "outputs": []
    },
    {
      "cell_type": "code",
      "source": [
        "X"
      ],
      "metadata": {
        "colab": {
          "base_uri": "https://localhost:8080/"
        },
        "id": "W53wJhpJkOi6",
        "outputId": "9fd46130-6298-49a2-a362-560047c2d86e"
      },
      "execution_count": null,
      "outputs": [
        {
          "output_type": "execute_result",
          "data": {
            "text/plain": [
              "array([[3, 3, 0, 0, 2, 1],\n",
              "       [3, 3, 0, 0, 2, 2],\n",
              "       [3, 3, 0, 0, 2, 0],\n",
              "       ...,\n",
              "       [1, 1, 3, 2, 0, 1],\n",
              "       [1, 1, 3, 2, 0, 2],\n",
              "       [1, 1, 3, 2, 0, 0]])"
            ]
          },
          "metadata": {},
          "execution_count": 74
        }
      ]
    },
    {
      "cell_type": "code",
      "source": [
        "y"
      ],
      "metadata": {
        "colab": {
          "base_uri": "https://localhost:8080/"
        },
        "id": "rSSOSmhrkSbI",
        "outputId": "88c43f3e-5b35-4495-9074-2da28064ac12"
      },
      "execution_count": null,
      "outputs": [
        {
          "output_type": "execute_result",
          "data": {
            "text/plain": [
              "array([2, 2, 2, ..., 2, 1, 3])"
            ]
          },
          "metadata": {},
          "execution_count": 75
        }
      ]
    },
    {
      "cell_type": "code",
      "source": [
        "scaler = StandardScaler()\n",
        "X = scaler.fit_transform(X)\n",
        "\n",
        "X_train, X_test, y_train, y_test = train_test_split(X, y, test_size=0.2)\n",
        "print(\"학습 데이터 개수:\", len(X_train))\n",
        "print(\"테스트 데이터 개수:\", len(X_test))"
      ],
      "metadata": {
        "colab": {
          "base_uri": "https://localhost:8080/"
        },
        "id": "seMmW_fcxvxL",
        "outputId": "d76bf43d-243a-4685-f50e-67fd76559e46"
      },
      "execution_count": null,
      "outputs": [
        {
          "output_type": "stream",
          "name": "stdout",
          "text": [
            "학습 데이터 개수: 1382\n",
            "테스트 데이터 개수: 346\n"
          ]
        }
      ]
    },
    {
      "cell_type": "code",
      "source": [
        "X_train.shape, X_test.shape, y_train.shape, y_test.shape"
      ],
      "metadata": {
        "colab": {
          "base_uri": "https://localhost:8080/"
        },
        "id": "Zj3f8dd7zBAb",
        "outputId": "0dcd29a7-4773-48fe-8f63-7ec6bdf9ccd4"
      },
      "execution_count": null,
      "outputs": [
        {
          "output_type": "execute_result",
          "data": {
            "text/plain": [
              "((1382, 6), (346, 6), (1382,), (346,))"
            ]
          },
          "metadata": {},
          "execution_count": 77
        }
      ]
    },
    {
      "cell_type": "code",
      "source": [
        "# Decision Tree 모델 생성 및 학습\n",
        "dt_model = DecisionTreeClassifier()\n",
        "dt_model.fit(X_train, y_train)\n",
        "\n",
        "# 예측 및 평가, confusion matrix 출력\n",
        "dt_pred = dt_model.predict(X_test)\n",
        "print(f'Decision Tree Accuracy: {accuracy_score(y_test, dt_pred)}')\n",
        "print(confusion_matrix(y_test, dt_pred))"
      ],
      "metadata": {
        "colab": {
          "base_uri": "https://localhost:8080/"
        },
        "id": "VCS_tF8_zXn4",
        "outputId": "5a8bbdce-0586-44db-890e-d010a8b2496f"
      },
      "execution_count": null,
      "outputs": [
        {
          "output_type": "stream",
          "name": "stdout",
          "text": [
            "Decision Tree Accuracy: 0.9884393063583815\n",
            "[[ 74   2   0   0]\n",
            " [  0  12   0   0]\n",
            " [  2   0 243   0]\n",
            " [  0   0   0  13]]\n"
          ]
        }
      ]
    },
    {
      "cell_type": "code",
      "source": [
        "# Random Forest 모델 생성 및 학습\n",
        "rf_model = RandomForestClassifier()\n",
        "rf_model.fit(X_train, y_train)\n",
        "\n",
        "# 예측 및 평가, confusion matrix 출력\n",
        "rf_pred = rf_model.predict(X_test)\n",
        "print(f'Random Forest Accuracy: {accuracy_score(y_test, rf_pred)}')\n",
        "print(confusion_matrix(y_test, rf_pred))"
      ],
      "metadata": {
        "colab": {
          "base_uri": "https://localhost:8080/"
        },
        "id": "Ne23BmfH1aP4",
        "outputId": "40819a1c-8547-4bad-f33a-4d4b0a73f512"
      },
      "execution_count": null,
      "outputs": [
        {
          "output_type": "stream",
          "name": "stdout",
          "text": [
            "Random Forest Accuracy: 0.9739884393063584\n",
            "[[ 71   4   1   0]\n",
            " [  1  11   0   0]\n",
            " [  3   0 242   0]\n",
            " [  0   0   0  13]]\n"
          ]
        }
      ]
    },
    {
      "cell_type": "code",
      "source": [
        "# SVM 모델 생성 및 학습\n",
        "svm_model = SVC()\n",
        "svm_model.fit(X_train, y_train)\n",
        "\n",
        "# 예측 및 평가, confusion matrix 출력\n",
        "svm_pred = svm_model.predict(X_test)\n",
        "print(f'SVM Accuracy: {accuracy_score(y_test, svm_pred)}')\n",
        "print(confusion_matrix(y_test, svm_pred))"
      ],
      "metadata": {
        "id": "ovajQd8Y1hPy",
        "outputId": "c15223a2-8785-4b43-b0b9-bd6f48352ccc",
        "colab": {
          "base_uri": "https://localhost:8080/"
        }
      },
      "execution_count": null,
      "outputs": [
        {
          "output_type": "stream",
          "name": "stdout",
          "text": [
            "SVM Accuracy: 0.9132947976878613\n",
            "[[ 67   4   5   0]\n",
            " [  5   7   0   0]\n",
            " [ 15   0 230   0]\n",
            " [  1   0   0  12]]\n"
          ]
        }
      ]
    },
    {
      "cell_type": "code",
      "source": [
        "# KNN 모델 생성 및 학습 (k = 5)\n",
        "knn = KNeighborsClassifier(n_neighbors=5)\n",
        "knn.fit(X_train, y_train)\n",
        "\n",
        "# 예측 및 평가, confusion matrix 출력\n",
        "knn_pred = knn.predict(X_test)\n",
        "print(f'KNN: {accuracy_score(y_test, knn_pred)}')\n",
        "print(confusion_matrix(y_test, knn_pred))"
      ],
      "metadata": {
        "id": "6f17azZC1icU",
        "outputId": "1c9cc4e7-4076-4e62-a5cd-06641906a1ab",
        "colab": {
          "base_uri": "https://localhost:8080/"
        }
      },
      "execution_count": null,
      "outputs": [
        {
          "output_type": "stream",
          "name": "stdout",
          "text": [
            "KNN: 0.953757225433526\n",
            "[[ 71   0   5   0]\n",
            " [  5   7   0   0]\n",
            " [  4   0 241   0]\n",
            " [  2   0   0  11]]\n"
          ]
        }
      ]
    },
    {
      "cell_type": "code",
      "source": [
        "# Logistic Regression 모델 생성 및 학습\n",
        "lr_model =LogisticRegression(max_iter=200)\n",
        "lr_model.fit(X_train, y_train)\n",
        "\n",
        "# 예측 및 평가, confusion matrix 출력\n",
        "lr_pred = lr_model.predict(X_test)\n",
        "print(f'Logistic Regression: {accuracy_score(y_test, lr_pred)}')\n",
        "print(confusion_matrix(y_test, lr_pred))"
      ],
      "metadata": {
        "id": "WI42Y00I1jPD",
        "outputId": "dd893be4-2d6e-40fb-9531-65040945b67e",
        "colab": {
          "base_uri": "https://localhost:8080/"
        }
      },
      "execution_count": null,
      "outputs": [
        {
          "output_type": "stream",
          "name": "stdout",
          "text": [
            "Logistic Regression: 0.6907514450867052\n",
            "[[ 15   0  56   5]\n",
            " [  2   0  10   0]\n",
            " [ 23   0 220   2]\n",
            " [  3   0   6   4]]\n"
          ]
        }
      ]
    },
    {
      "cell_type": "code",
      "source": [],
      "metadata": {
        "id": "pdz5gdMbmQ9N"
      },
      "execution_count": null,
      "outputs": []
    }
  ]
}
