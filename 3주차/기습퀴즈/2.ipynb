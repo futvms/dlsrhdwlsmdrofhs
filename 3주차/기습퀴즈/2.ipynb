{
 "cells": [
  {
   "cell_type": "code",
   "execution_count": 10,
   "id": "88b4ea1f-7d9b-408a-9a85-e883ad6e5540",
   "metadata": {},
   "outputs": [
    {
     "name": "stdout",
     "output_type": "stream",
     "text": [
      "vhigh      0\n",
      "vhigh.1    0\n",
      "2          0\n",
      "2.1        0\n",
      "small      0\n",
      "low        0\n",
      "unacc      0\n",
      "dtype: int64\n",
      "      vhigh vhigh.1      2   2.1  small   low  unacc\n",
      "0     vhigh   vhigh      2     2  small   med  unacc\n",
      "1     vhigh   vhigh      2     2  small  high  unacc\n",
      "2     vhigh   vhigh      2     2    med   low  unacc\n",
      "3     vhigh   vhigh      2     2    med   med  unacc\n",
      "4     vhigh   vhigh      2     2    med  high  unacc\n",
      "...     ...     ...    ...   ...    ...   ...    ...\n",
      "1722    low     low  5more  more    med   med   good\n",
      "1723    low     low  5more  more    med  high  vgood\n",
      "1724    low     low  5more  more    big   low  unacc\n",
      "1725    low     low  5more  more    big   med   good\n",
      "1726    low     low  5more  more    big  high  vgood\n",
      "\n",
      "[1727 rows x 7 columns]\n"
     ]
    },
    {
     "data": {
      "text/plain": [
       "vhigh\n",
       "high     432\n",
       "med      432\n",
       "low      432\n",
       "vhigh    431\n",
       "Name: count, dtype: int64"
      ]
     },
     "execution_count": 10,
     "metadata": {},
     "output_type": "execute_result"
    }
   ],
   "source": [
    "import pandas as pd\n",
    "from sklearn.model_selection import train_test_split\n",
    "from sklearn.preprocessing import LabelEncoder\n",
    "from sklearn.preprocessing import StandardScaler\n",
    "from sklearn.neighbors import KNeighborsClassifier\n",
    "from sklearn.tree import DecisionTreeClassifier\n",
    "from sklearn.ensemble import RandomForestClassifier\n",
    "from sklearn.svm import SVC\n",
    "from sklearn.linear_model import LogisticRegression\n",
    "from sklearn.metrics import accuracy_score\n",
    "from sklearn.metrics import confusion_matrix\n",
    "\n",
    "df = pd.read_csv('C:\\\\dlsrhdwlsmdrofhs\\\\car_evaluation.csv')\n",
    "\n",
    "# 결측치 확인\n",
    "print(df.isnull().sum())\n",
    "print(df)\n",
    "df['vhigh'].value_counts()\n"
   ]
  },
  {
   "cell_type": "code",
   "execution_count": 26,
   "id": "7eec66b7-f6b9-4873-9630-370e074676ff",
   "metadata": {},
   "outputs": [
    {
     "name": "stdout",
     "output_type": "stream",
     "text": [
      "vhigh\n",
      "high     432\n",
      "med      432\n",
      "low      432\n",
      "vhigh    431\n",
      "Name: count, dtype: int64\n"
     ]
    },
    {
     "data": {
      "text/plain": [
       "vhigh\n",
       "0    432\n",
       "2    432\n",
       "1    432\n",
       "3    431\n",
       "Name: count, dtype: int64"
      ]
     },
     "execution_count": 26,
     "metadata": {},
     "output_type": "execute_result"
    }
   ],
   "source": [
    "label_encoder = LabelEncoder()\n",
    "print(df['vhigh'].value_counts())\n",
    "columns_to_encode = ['vhigh']\n",
    "for column in columns_to_encode:\n",
    "    df[column] = label_encoder.fit_transform(df[column])\n",
    "df['vhigh'].value_counts()"
   ]
  },
  {
   "cell_type": "code",
   "execution_count": 27,
   "id": "9c8e48a6-15b4-4fff-8e38-eafc72090dbf",
   "metadata": {},
   "outputs": [
    {
     "name": "stdout",
     "output_type": "stream",
     "text": [
      "vhigh.1\n",
      "0    432\n",
      "2    432\n",
      "1    432\n",
      "3    431\n",
      "Name: count, dtype: int64\n"
     ]
    },
    {
     "data": {
      "text/plain": [
       "vhigh.1\n",
       "0    432\n",
       "2    432\n",
       "1    432\n",
       "3    431\n",
       "Name: count, dtype: int64"
      ]
     },
     "execution_count": 27,
     "metadata": {},
     "output_type": "execute_result"
    }
   ],
   "source": [
    "print(df['vhigh.1'].value_counts())\n",
    "columns_to_encode = ['vhigh.1']\n",
    "for column in columns_to_encode:\n",
    "    df[column] = label_encoder.fit_transform(df[column])\n",
    "df['vhigh.1'].value_counts()"
   ]
  },
  {
   "cell_type": "code",
   "execution_count": 28,
   "id": "d945f621-cc94-4504-b989-f053440e6740",
   "metadata": {},
   "outputs": [
    {
     "name": "stdout",
     "output_type": "stream",
     "text": [
      "2\n",
      "1    432\n",
      "2    432\n",
      "3    432\n",
      "0    431\n",
      "Name: count, dtype: int64\n"
     ]
    },
    {
     "data": {
      "text/plain": [
       "2\n",
       "1    432\n",
       "2    432\n",
       "3    432\n",
       "0    431\n",
       "Name: count, dtype: int64"
      ]
     },
     "execution_count": 28,
     "metadata": {},
     "output_type": "execute_result"
    }
   ],
   "source": [
    "print(df['2'].value_counts())\n",
    "columns_to_encode = ['2']\n",
    "for column in columns_to_encode:\n",
    "    df[column] = label_encoder.fit_transform(df[column])\n",
    "df['2'].value_counts()"
   ]
  },
  {
   "cell_type": "code",
   "execution_count": 29,
   "id": "421ba677-7fe3-4d2d-aab3-14faea48a7c3",
   "metadata": {},
   "outputs": [
    {
     "name": "stdout",
     "output_type": "stream",
     "text": [
      "2.1\n",
      "1    576\n",
      "2    576\n",
      "0    575\n",
      "Name: count, dtype: int64\n"
     ]
    },
    {
     "data": {
      "text/plain": [
       "2.1\n",
       "1    576\n",
       "2    576\n",
       "0    575\n",
       "Name: count, dtype: int64"
      ]
     },
     "execution_count": 29,
     "metadata": {},
     "output_type": "execute_result"
    }
   ],
   "source": [
    "print(df['2.1'].value_counts())\n",
    "columns_to_encode = ['2.1']\n",
    "for column in columns_to_encode:\n",
    "    df[column] = label_encoder.fit_transform(df[column])\n",
    "df['2.1'].value_counts()"
   ]
  },
  {
   "cell_type": "code",
   "execution_count": 30,
   "id": "eaaecf84-bc52-4598-ad2d-6c40c2fc4870",
   "metadata": {},
   "outputs": [
    {
     "name": "stdout",
     "output_type": "stream",
     "text": [
      "small\n",
      "1    576\n",
      "0    576\n",
      "2    575\n",
      "Name: count, dtype: int64\n"
     ]
    },
    {
     "data": {
      "text/plain": [
       "small\n",
       "1    576\n",
       "0    576\n",
       "2    575\n",
       "Name: count, dtype: int64"
      ]
     },
     "execution_count": 30,
     "metadata": {},
     "output_type": "execute_result"
    }
   ],
   "source": [
    "print(df['small'].value_counts())\n",
    "columns_to_encode = ['small']\n",
    "for column in columns_to_encode:\n",
    "    df[column] = label_encoder.fit_transform(df[column])\n",
    "df['small'].value_counts()"
   ]
  },
  {
   "cell_type": "code",
   "execution_count": 31,
   "id": "9cb266b1-a845-4d0e-8262-7cec47764c87",
   "metadata": {},
   "outputs": [
    {
     "name": "stdout",
     "output_type": "stream",
     "text": [
      "low\n",
      "2    576\n",
      "0    576\n",
      "1    575\n",
      "Name: count, dtype: int64\n"
     ]
    },
    {
     "data": {
      "text/plain": [
       "low\n",
       "2    576\n",
       "0    576\n",
       "1    575\n",
       "Name: count, dtype: int64"
      ]
     },
     "execution_count": 31,
     "metadata": {},
     "output_type": "execute_result"
    }
   ],
   "source": [
    "print(df['low'].value_counts())\n",
    "columns_to_encode = ['low']\n",
    "for column in columns_to_encode:\n",
    "    df[column] = label_encoder.fit_transform(df[column])\n",
    "df['low'].value_counts()"
   ]
  },
  {
   "cell_type": "code",
   "execution_count": 32,
   "id": "ebf1c2b3-0b11-4450-aa6c-212529121a94",
   "metadata": {},
   "outputs": [
    {
     "name": "stdout",
     "output_type": "stream",
     "text": [
      "unacc\n",
      "2    1209\n",
      "0     384\n",
      "1      69\n",
      "3      65\n",
      "Name: count, dtype: int64\n"
     ]
    },
    {
     "data": {
      "text/plain": [
       "unacc\n",
       "2    1209\n",
       "0     384\n",
       "1      69\n",
       "3      65\n",
       "Name: count, dtype: int64"
      ]
     },
     "execution_count": 32,
     "metadata": {},
     "output_type": "execute_result"
    }
   ],
   "source": [
    "print(df['unacc'].value_counts())\n",
    "columns_to_encode = ['unacc']\n",
    "for column in columns_to_encode:\n",
    "    df[column] = label_encoder.fit_transform(df[column])\n",
    "df['unacc'].value_counts()"
   ]
  },
  {
   "cell_type": "code",
   "execution_count": 33,
   "id": "12f06425-4351-4253-b010-ba4380f0f310",
   "metadata": {},
   "outputs": [
    {
     "name": "stdout",
     "output_type": "stream",
     "text": [
      "학습 데이터 개수: 1381\n",
      "테스트 데이터 개수: 346\n"
     ]
    }
   ],
   "source": [
    "# 특징 및 레이블 분리\n",
    "X = df.drop('unacc', axis=1)\n",
    "y = df['unacc']\n",
    "\n",
    "# 학습, 테스트 데이터 분할\n",
    "X_train, X_test, y_train, y_test = train_test_split(X, y, test_size=0.2, random_state=42)\n",
    "print(\"학습 데이터 개수:\", len(X_train))\n",
    "print(\"테스트 데이터 개수:\", len(X_test))\n",
    "\n",
    "# 데이터 표준화\n",
    "scaler = StandardScaler()\n",
    "X_train = scaler.fit_transform(X_train)\n",
    "X_test = scaler.transform(X_test)"
   ]
  },
  {
   "cell_type": "code",
   "execution_count": 34,
   "id": "9c471d22-3e57-450e-8634-86b7ae79b7ab",
   "metadata": {},
   "outputs": [
    {
     "name": "stdout",
     "output_type": "stream",
     "text": [
      "Decision Tree Accuracy: 0.9710982658959537\n",
      "[[ 73   2   0   2]\n",
      " [  2  12   0   1]\n",
      " [  1   0 236   0]\n",
      " [  0   2   0  15]]\n"
     ]
    }
   ],
   "source": [
    "# Decision Tree 모델 생성 및 학습\n",
    "dt_model = DecisionTreeClassifier(random_state=42)\n",
    "dt_model.fit(X_train, y_train)\n",
    "\n",
    "# 예측 및 평가, confusion matrix 출력\n",
    "dt_pred = dt_model.predict(X_test)\n",
    "print(f'Decision Tree Accuracy: {accuracy_score(y_test, dt_pred)}')\n",
    "print(confusion_matrix(y_test, dt_pred))"
   ]
  },
  {
   "cell_type": "code",
   "execution_count": 35,
   "id": "5eedac69-decc-412c-add4-c2a448b00f2d",
   "metadata": {},
   "outputs": [
    {
     "name": "stdout",
     "output_type": "stream",
     "text": [
      "Random Forest Accuracy: 0.9682080924855492\n",
      "[[ 74   1   1   1]\n",
      " [  2  10   0   3]\n",
      " [  1   0 236   0]\n",
      " [  2   0   0  15]]\n"
     ]
    }
   ],
   "source": [
    "# Random Forest 모델 생성 및 학습\n",
    "rf_model = RandomForestClassifier(random_state=42)\n",
    "rf_model.fit(X_train, y_train)\n",
    "\n",
    "# 예측 및 평가, confusion matrix 출력\n",
    "rf_pred = rf_model.predict(X_test)\n",
    "print(f'Random Forest Accuracy: {accuracy_score(y_test, rf_pred)}')\n",
    "print(confusion_matrix(y_test, rf_pred))"
   ]
  },
  {
   "cell_type": "code",
   "execution_count": 36,
   "id": "818190c7-b4db-4cd9-8cd8-4492d8c7cb25",
   "metadata": {},
   "outputs": [
    {
     "name": "stdout",
     "output_type": "stream",
     "text": [
      "SVM Accuracy: 0.8872832369942196\n",
      "[[ 69   0   8   0]\n",
      " [ 14   0   0   1]\n",
      " [ 13   0 224   0]\n",
      " [  3   0   0  14]]\n"
     ]
    }
   ],
   "source": [
    "# SVM 모델 생성 및 학습\n",
    "svm_model = SVC(random_state=42)\n",
    "svm_model.fit(X_train, y_train)\n",
    "\n",
    "# 예측 및 평가, confusion matrix 출력\n",
    "svm_pred = svm_model.predict(X_test)\n",
    "print(f'SVM Accuracy: {accuracy_score(y_test, svm_pred)}')\n",
    "print(confusion_matrix(y_test, svm_pred))"
   ]
  },
  {
   "cell_type": "code",
   "execution_count": 38,
   "id": "0a5f17a3-ef96-4b05-8644-d75c1303f01c",
   "metadata": {},
   "outputs": [
    {
     "name": "stdout",
     "output_type": "stream",
     "text": [
      "KNN: 0.9508670520231214\n",
      "[[ 75   0   2   0]\n",
      " [  9   5   1   0]\n",
      " [  1   0 236   0]\n",
      " [  4   0   0  13]]\n"
     ]
    }
   ],
   "source": [
    "# KNN 모델 생성 및 학습\n",
    "knn = KNeighborsClassifier(n_neighbors=5)\n",
    "knn.fit(X_train, y_train)\n",
    "\n",
    "# 예측 및 평가, confusion matrix 출력\n",
    "knn_pred = knn.predict(X_test)\n",
    "print(f'KNN: {accuracy_score(y_test, knn_pred)}')\n",
    "print(confusion_matrix(y_test, knn_pred))"
   ]
  },
  {
   "cell_type": "code",
   "execution_count": 39,
   "id": "8fab288d-2ae1-4259-8bbe-57a52c1ee07f",
   "metadata": {},
   "outputs": [
    {
     "name": "stdout",
     "output_type": "stream",
     "text": [
      "Logistic Regression: 0.684971098265896\n",
      "[[ 12   0  64   1]\n",
      " [  2   0  13   0]\n",
      " [ 13   0 224   0]\n",
      " [ 11   0   5   1]]\n"
     ]
    }
   ],
   "source": [
    "# Logistic Regression 모델 생성 및 학습\n",
    "lr_model =LogisticRegression(max_iter=200, random_state=42)\n",
    "lr_model.fit(X_train, y_train)\n",
    "\n",
    "# 예측 및 평가, confusion matrix 출력\n",
    "lr_pred = lr_model.predict(X_test)\n",
    "print(f'Logistic Regression: {accuracy_score(y_test, lr_pred)}')\n",
    "print(confusion_matrix(y_test, lr_pred))"
   ]
  },
  {
   "cell_type": "code",
   "execution_count": null,
   "id": "fef38b88-b2b6-42d8-8371-40d2a0464edf",
   "metadata": {},
   "outputs": [],
   "source": []
  }
 ],
 "metadata": {
  "kernelspec": {
   "display_name": "Python 3 (ipykernel)",
   "language": "python",
   "name": "python3"
  },
  "language_info": {
   "codemirror_mode": {
    "name": "ipython",
    "version": 3
   },
   "file_extension": ".py",
   "mimetype": "text/x-python",
   "name": "python",
   "nbconvert_exporter": "python",
   "pygments_lexer": "ipython3",
   "version": "3.12.9"
  }
 },
 "nbformat": 4,
 "nbformat_minor": 5
}
