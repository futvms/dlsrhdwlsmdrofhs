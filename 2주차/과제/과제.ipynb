{
 "cells": [
  {
   "cell_type": "code",
   "execution_count": 29,
   "id": "faae84f6-2180-40b1-a2ef-9dba8b2bf7cc",
   "metadata": {},
   "outputs": [
    {
     "data": {
      "text/plain": [
       "PassengerId      0\n",
       "Survived         0\n",
       "Pclass           0\n",
       "Name             0\n",
       "Sex              0\n",
       "Age            177\n",
       "SibSp            0\n",
       "Parch            0\n",
       "Ticket           0\n",
       "Fare             0\n",
       "Cabin          687\n",
       "Embarked         2\n",
       "dtype: int64"
      ]
     },
     "execution_count": 29,
     "metadata": {},
     "output_type": "execute_result"
    }
   ],
   "source": [
    "import pandas as pd\n",
    "from sklearn.model_selection import train_test_split\n",
    "from sklearn.preprocessing import LabelEncoder\n",
    "from sklearn.preprocessing import StandardScaler\n",
    "from sklearn.neighbors import KNeighborsClassifier\n",
    "from sklearn.tree import DecisionTreeClassifier\n",
    "from sklearn.ensemble import RandomForestClassifier\n",
    "from sklearn.svm import SVC\n",
    "from sklearn.linear_model import LogisticRegression\n",
    "from sklearn.metrics import accuracy_score\n",
    "from sklearn.metrics import confusion_matrix\n",
    "\n",
    "df = pd.read_csv('https://github.com/MyungKyuYi/AI-class/raw/refs/heads/main/titanic.csv')\n",
    "\n",
    "# 결측치 확인\n",
    "df.isnull().sum()"
   ]
  },
  {
   "cell_type": "code",
   "execution_count": 30,
   "id": "059b8262-a03d-4921-ac3e-09b3b506684d",
   "metadata": {},
   "outputs": [
    {
     "data": {
      "text/plain": [
       "PassengerId      0\n",
       "Survived         0\n",
       "Pclass           0\n",
       "Name             0\n",
       "Sex              0\n",
       "Age              0\n",
       "SibSp            0\n",
       "Parch            0\n",
       "Ticket           0\n",
       "Fare             0\n",
       "Cabin          687\n",
       "Embarked         2\n",
       "dtype: int64"
      ]
     },
     "execution_count": 30,
     "metadata": {},
     "output_type": "execute_result"
    }
   ],
   "source": [
    "# 결측치 제거 (Cabin, Embarked는 결측치가 있지만 컬럼 삭제 예정이므로 제거하지 않음)\n",
    "mean_age = df['Age'].mean() # NaN 값을 제외한 Age 열의 평균값 계산\n",
    "df['Age'] = df['Age'].fillna(mean_age) # Age 열의 결측치를 평균값으로 채우기\n",
    "\n",
    "df.isnull().sum() # Age 열의 결측치가 사라진 것을 확인"
   ]
  },
  {
   "cell_type": "code",
   "execution_count": 31,
   "id": "5fcb7380-c5b2-450f-8070-c25828ee095e",
   "metadata": {},
   "outputs": [
    {
     "data": {
      "text/plain": [
       "Survived\n",
       "0    549\n",
       "1    342\n",
       "Name: count, dtype: int64"
      ]
     },
     "execution_count": 31,
     "metadata": {},
     "output_type": "execute_result"
    }
   ],
   "source": [
    "# 레이블 확인 (imbalanced data)\n",
    "df['Survived'].value_counts()"
   ]
  },
  {
   "cell_type": "code",
   "execution_count": 32,
   "id": "294e28c6-c6da-4f2f-8fa3-1d51821a82d7",
   "metadata": {},
   "outputs": [
    {
     "name": "stdout",
     "output_type": "stream",
     "text": [
      "     Survived  Pclass     Sex        Age  SibSp  Parch     Fare\n",
      "0           0       3    male  22.000000      1      0   7.2500\n",
      "1           1       1  female  38.000000      1      0  71.2833\n",
      "2           1       3  female  26.000000      0      0   7.9250\n",
      "3           1       1  female  35.000000      1      0  53.1000\n",
      "4           0       3    male  35.000000      0      0   8.0500\n",
      "..        ...     ...     ...        ...    ...    ...      ...\n",
      "886         0       2    male  27.000000      0      0  13.0000\n",
      "887         1       1  female  19.000000      0      0  30.0000\n",
      "888         0       3  female  29.699118      1      2  23.4500\n",
      "889         1       1    male  26.000000      0      0  30.0000\n",
      "890         0       3    male  32.000000      0      0   7.7500\n",
      "\n",
      "[891 rows x 7 columns]\n"
     ]
    }
   ],
   "source": [
    "# 특정 컬럼만 삭제 (아래의 속성은 예측에 필요한 요소가 아니기 때문에 제거)\n",
    "df = df.drop(['PassengerId', 'Name', 'Cabin', 'Ticket', 'Embarked'], axis=1)\n",
    "print(df)"
   ]
  },
  {
   "cell_type": "code",
   "execution_count": 33,
   "id": "6d773b4f-b284-493f-b84f-a6e50e087e83",
   "metadata": {},
   "outputs": [
    {
     "name": "stdout",
     "output_type": "stream",
     "text": [
      "전:  Sex\n",
      "male      577\n",
      "female    314\n",
      "Name: count, dtype: int64 \n",
      " 후:  Sex\n",
      "1    577\n",
      "0    314\n",
      "Name: count, dtype: int64\n",
      "     Survived  Pclass  Sex        Age  SibSp  Parch     Fare\n",
      "0           0       3    1  22.000000      1      0   7.2500\n",
      "1           1       1    0  38.000000      1      0  71.2833\n",
      "2           1       3    0  26.000000      0      0   7.9250\n",
      "3           1       1    0  35.000000      1      0  53.1000\n",
      "4           0       3    1  35.000000      0      0   8.0500\n",
      "..        ...     ...  ...        ...    ...    ...      ...\n",
      "886         0       2    1  27.000000      0      0  13.0000\n",
      "887         1       1    0  19.000000      0      0  30.0000\n",
      "888         0       3    0  29.699118      1      2  23.4500\n",
      "889         1       1    1  26.000000      0      0  30.0000\n",
      "890         0       3    1  32.000000      0      0   7.7500\n",
      "\n",
      "[891 rows x 7 columns]\n"
     ]
    }
   ],
   "source": [
    "# \n",
    "beforeEncodeingSex=df['Sex'].value_counts()\n",
    "\n",
    "label_encoder = LabelEncoder()\n",
    "columns_to_encode = ['Sex']\n",
    "for column in columns_to_encode:\n",
    "    df[column] = label_encoder.fit_transform(df[column])\n",
    "print(\"전: \", beforeEncodeingSex, \"\\n\", \"후: \", df['Sex'].value_counts())\n",
    "print(df)"
   ]
  },
  {
   "cell_type": "code",
   "execution_count": 34,
   "id": "d6c68485-b660-4e67-afdd-fc236fce3478",
   "metadata": {},
   "outputs": [
    {
     "name": "stdout",
     "output_type": "stream",
     "text": [
      "학습 데이터 개수: 712\n",
      "테스트 데이터 개수: 179\n"
     ]
    }
   ],
   "source": [
    "# 특징 및 레이블 분리\n",
    "X = df.drop('Survived', axis=1)\n",
    "y = df['Survived']\n",
    "\n",
    "# 학습, 테스트 데이터 분할\n",
    "X_train, X_test, y_train, y_test = train_test_split(X, y, test_size=0.2, random_state=42)\n",
    "print(\"학습 데이터 개수:\", len(X_train))\n",
    "print(\"테스트 데이터 개수:\", len(X_test))\n",
    "\n",
    "# 데이터 정규화\n",
    "scaler = StandardScaler()\n",
    "X_train = scaler.fit_transform(X_train)\n",
    "X_test = scaler.transform(X_test)"
   ]
  },
  {
   "cell_type": "code",
   "execution_count": 39,
   "id": "90a59f44-f101-497c-ba67-87421b31dfad",
   "metadata": {},
   "outputs": [
    {
     "name": "stdout",
     "output_type": "stream",
     "text": [
      "Decision Tree Accuracy: 0.7597765363128491\n",
      "[[83 22]\n",
      " [21 53]]\n"
     ]
    }
   ],
   "source": [
    "# Decision Tree 모델 생성 및 학습\n",
    "dt_model = DecisionTreeClassifier(random_state=42)\n",
    "dt_model.fit(X_train, y_train)\n",
    "\n",
    "# 예측 및 평가, confusion matrix 출력\n",
    "dt_pred = dt_model.predict(X_test)\n",
    "print(f'Decision Tree Accuracy: {accuracy_score(y_test, dt_pred)}')\n",
    "print(confusion_matrix(y_test, dt_pred))"
   ]
  },
  {
   "cell_type": "code",
   "execution_count": 40,
   "id": "4fd9a877-018d-4a66-adbc-207047890422",
   "metadata": {},
   "outputs": [
    {
     "name": "stdout",
     "output_type": "stream",
     "text": [
      "Random Forest Accuracy: 0.8212290502793296\n",
      "[[92 13]\n",
      " [19 55]]\n"
     ]
    }
   ],
   "source": [
    "# Random Forest 모델 생성 및 학습\n",
    "rf_model = RandomForestClassifier(random_state=42)\n",
    "rf_model.fit(X_train, y_train)\n",
    "\n",
    "# 예측 및 평가, confusion matrix 출력\n",
    "rf_pred = rf_model.predict(X_test)\n",
    "print(f'Random Forest Accuracy: {accuracy_score(y_test, rf_pred)}')\n",
    "print(confusion_matrix(y_test, rf_pred))"
   ]
  },
  {
   "cell_type": "code",
   "execution_count": 41,
   "id": "0ae88ec3-638b-4d37-8c55-fee6b18bf6c2",
   "metadata": {},
   "outputs": [
    {
     "name": "stdout",
     "output_type": "stream",
     "text": [
      "SVM Accuracy: 0.8100558659217877\n",
      "[[92 13]\n",
      " [21 53]]\n"
     ]
    }
   ],
   "source": [
    "# SVM 모델 생성 및 학습\n",
    "svm_model = SVC(random_state=42)\n",
    "svm_model.fit(X_train, y_train)\n",
    "\n",
    "# 예측 및 평가, confusion matrix 출력\n",
    "svm_pred = svm_model.predict(X_test)\n",
    "print(f'SVM Accuracy: {accuracy_score(y_test, svm_pred)}')\n",
    "print(confusion_matrix(y_test, svm_pred))"
   ]
  },
  {
   "cell_type": "code",
   "execution_count": 42,
   "id": "2950c04e-5dfd-4aa1-9f19-d6ad41cf1eac",
   "metadata": {},
   "outputs": [
    {
     "name": "stdout",
     "output_type": "stream",
     "text": [
      "Logistic Regression: 0.7988826815642458\n",
      "[[90 15]\n",
      " [21 53]]\n"
     ]
    }
   ],
   "source": [
    "# Logistic Regression 모델 생성 및 학습\n",
    "lr_model =LogisticRegression(max_iter=200, random_state=42)\n",
    "lr_model.fit(X_train, y_train)\n",
    "\n",
    "# 예측 및 평가, confusion matrix 출력\n",
    "lr_pred = lr_model.predict(X_test)\n",
    "print(f'Logistic Regression: {accuracy_score(y_test, lr_pred)}')\n",
    "print(confusion_matrix(y_test, lr_pred))"
   ]
  },
  {
   "cell_type": "code",
   "execution_count": null,
   "id": "07b0ad2d-7f59-41be-97e3-ff1b0a375ab0",
   "metadata": {},
   "outputs": [],
   "source": []
  }
 ],
 "metadata": {
  "kernelspec": {
   "display_name": "Python 3 (ipykernel)",
   "language": "python",
   "name": "python3"
  },
  "language_info": {
   "codemirror_mode": {
    "name": "ipython",
    "version": 3
   },
   "file_extension": ".py",
   "mimetype": "text/x-python",
   "name": "python",
   "nbconvert_exporter": "python",
   "pygments_lexer": "ipython3",
   "version": "3.12.9"
  }
 },
 "nbformat": 4,
 "nbformat_minor": 5
}
