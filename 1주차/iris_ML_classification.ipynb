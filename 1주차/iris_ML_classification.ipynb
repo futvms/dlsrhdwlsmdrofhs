{
 "cells": [
  {
   "cell_type": "code",
   "execution_count": 18,
   "id": "3d3e4649-560c-41a2-9e2f-e8a486eda768",
   "metadata": {
    "scrolled": true
   },
   "outputs": [
    {
     "name": "stdout",
     "output_type": "stream",
     "text": [
      "   SepalLength  SepalWidth  PetalLength  PetalWidth         Name\n",
      "0          5.1         3.5          1.4         0.2  Iris-setosa\n",
      "1          4.9         3.0          1.4         0.2  Iris-setosa\n",
      "2          4.7         3.2          1.3         0.2  Iris-setosa\n",
      "3          4.6         3.1          1.5         0.2  Iris-setosa\n",
      "4          5.0         3.6          1.4         0.2  Iris-setosa\n",
      "Index(['SepalLength', 'SepalWidth', 'PetalLength', 'PetalWidth', 'Name'], dtype='object')\n"
     ]
    }
   ],
   "source": [
    "import pandas as pd\n",
    "from sklearn.model_selection import train_test_split\n",
    "from sklearn.preprocessing import LabelEncoder\n",
    "from sklearn.tree import DecisionTreeClassifier\n",
    "from sklearn.ensemble import RandomForestClassifier\n",
    "from sklearn.svm import SVC\n",
    "from sklearn.linear_model import LogisticRegression\n",
    "from sklearn.metrics import accuracy_score\n",
    "\n",
    "\n",
    "# 데이터 읽기\n",
    "file_path = \"C:\\\\dlsrhdwlsmdrofhs\\\\iris.csv\"\n",
    "df = pd.read_csv(file_path)\n",
    "\n",
    "# 데이터프레임 확인\n",
    "print(df.head())\n",
    "print(df.columns)"
   ]
  },
  {
   "cell_type": "code",
   "execution_count": 28,
   "id": "41248c9f-6c5d-4910-bd84-4e0f627999bb",
   "metadata": {},
   "outputs": [
    {
     "name": "stdout",
     "output_type": "stream",
     "text": [
      "학습 데이터 개수: 120\n",
      "테스트 데이터 개수: 30\n"
     ]
    }
   ],
   "source": [
    "# 특징 및 레이블 분리\n",
    "X = df.drop('Name', axis=1)\n",
    "y = df['Name']\n",
    "\n",
    "# 라벨 인코딩\n",
    "encoder = LabelEncoder()\n",
    "y_encoded = encoder.fit_transform(y)\n",
    "\n",
    "# 학습, 테스트 데이터 분할\n",
    "X_train, X_test, y_train, y_test = train_test_split(X, y_encoded, test_size=0.2, random_state=42)\n",
    "print(\"학습 데이터 개수:\", len(X_train))\n",
    "print(\"테스트 데이터 개수:\", len(X_test))"
   ]
  },
  {
   "cell_type": "code",
   "execution_count": 36,
   "id": "05e2add3-6d61-4ef1-9009-f423e4bb42e8",
   "metadata": {},
   "outputs": [
    {
     "name": "stdout",
     "output_type": "stream",
     "text": [
      "Decision Tree Accuracy: 1.0\n"
     ]
    }
   ],
   "source": [
    "# Decision Tree 모델 생성 및 학습\n",
    "dt_model = DecisionTreeClassifier(random_state=42)\n",
    "dt_model.fit(X_train, y_train)\n",
    "\n",
    "# 예측 및 평가\n",
    "dt_pred = dt_model.predict(X_test)\n",
    "print(f'Decision Tree Accuracy: {accuracy_score(y_test, dt_pred)}')"
   ]
  },
  {
   "cell_type": "code",
   "execution_count": 40,
   "id": "d156ede2-c282-43a6-a9f5-99dccc71aa27",
   "metadata": {},
   "outputs": [
    {
     "name": "stdout",
     "output_type": "stream",
     "text": [
      "Random Forest Accuracy: 1.0\n"
     ]
    }
   ],
   "source": [
    "# Random Forest 모델 생성 및 학습\n",
    "rf_model = RandomForestClassifier(random_state=42)\n",
    "rf_model.fit(X_train, y_train)\n",
    "\n",
    "# 예측 및 평가\n",
    "rf_pred = rf_model.predict(X_test)\n",
    "print(f'Random Forest Accuracy: {accuracy_score(y_test, rf_pred)}')"
   ]
  },
  {
   "cell_type": "code",
   "execution_count": 42,
   "id": "4ba442c4-9422-43af-9c29-9eb8df040046",
   "metadata": {},
   "outputs": [
    {
     "name": "stdout",
     "output_type": "stream",
     "text": [
      "SVM Accuracy: 1.0\n"
     ]
    }
   ],
   "source": [
    "# SVM 모델 생성 및 학습\n",
    "svm_model = SVC(random_state=42)\n",
    "svm_model.fit(X_train, y_train)\n",
    "\n",
    "# 예측 및 평가\n",
    "svm_pred = svm_model.predict(X_test)\n",
    "print(f'SVM Accuracy: {accuracy_score(y_test, svm_pred)}')"
   ]
  },
  {
   "cell_type": "code",
   "execution_count": 44,
   "id": "76ac77e9-b5d3-4181-8978-40afe780d6bb",
   "metadata": {},
   "outputs": [
    {
     "name": "stdout",
     "output_type": "stream",
     "text": [
      "Logistic Regression: 1.0\n"
     ]
    }
   ],
   "source": [
    "# Logistic Regression 모델 생성 및 학습\n",
    "lr_model =LogisticRegression(max_iter=200, random_state=42)\n",
    "lr_model.fit(X_train, y_train)\n",
    "\n",
    "# 예측 및 평가\n",
    "lr_pred = lr_model.predict(X_test)\n",
    "print(f'Logistic Regression: {accuracy_score(y_test, lr_pred)}')"
   ]
  },
  {
   "cell_type": "code",
   "execution_count": null,
   "id": "02b06d1b-b1f5-4113-8b24-c9cdd888bb30",
   "metadata": {},
   "outputs": [],
   "source": []
  }
 ],
 "metadata": {
  "kernelspec": {
   "display_name": "Python [conda env:base] *",
   "language": "python",
   "name": "conda-base-py"
  },
  "language_info": {
   "codemirror_mode": {
    "name": "ipython",
    "version": 3
   },
   "file_extension": ".py",
   "mimetype": "text/x-python",
   "name": "python",
   "nbconvert_exporter": "python",
   "pygments_lexer": "ipython3",
   "version": "3.12.7"
  }
 },
 "nbformat": 4,
 "nbformat_minor": 5
}
